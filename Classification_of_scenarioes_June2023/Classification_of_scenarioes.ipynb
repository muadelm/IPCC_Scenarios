{
 "cells": [
  {
   "attachments": {},
   "cell_type": "markdown",
   "metadata": {},
   "source": [
    "# Classification of Scenarioes - June 2023"
   ]
  },
  {
   "attachments": {},
   "cell_type": "markdown",
   "metadata": {},
   "source": [
    "This work aims at creating a multiclassification model to predict the emissions classiication of scenarioes from the GGM based on the AR6 DataSet"
   ]
  },
  {
   "cell_type": "code",
   "execution_count": 1,
   "metadata": {},
   "outputs": [],
   "source": [
    "import pandas as pd\n",
    "import matplotlib.pyplot as plt \n",
    "import seaborn as sns\n",
    "import numpy as np "
   ]
  },
  {
   "cell_type": "code",
   "execution_count": 2,
   "metadata": {},
   "outputs": [],
   "source": [
    "# read the dataset that has demand, emissions and classification categories\n",
    "df = pd.read_csv('emissionseries_emissions_cat_merged_24August2022.csv')"
   ]
  },
  {
   "cell_type": "code",
   "execution_count": 3,
   "metadata": {},
   "outputs": [
    {
     "data": {
      "text/html": [
       "<div>\n",
       "<style scoped>\n",
       "    .dataframe tbody tr th:only-of-type {\n",
       "        vertical-align: middle;\n",
       "    }\n",
       "\n",
       "    .dataframe tbody tr th {\n",
       "        vertical-align: top;\n",
       "    }\n",
       "\n",
       "    .dataframe thead th {\n",
       "        text-align: right;\n",
       "    }\n",
       "</style>\n",
       "<table border=\"1\" class=\"dataframe\">\n",
       "  <thead>\n",
       "    <tr style=\"text-align: right;\">\n",
       "      <th></th>\n",
       "      <th>Unnamed: 0</th>\n",
       "      <th>Model</th>\n",
       "      <th>Scenario</th>\n",
       "      <th>Region</th>\n",
       "      <th>Variable</th>\n",
       "      <th>Unit</th>\n",
       "      <th>2019</th>\n",
       "      <th>2020</th>\n",
       "      <th>2021</th>\n",
       "      <th>2022</th>\n",
       "      <th>...</th>\n",
       "      <th>2093</th>\n",
       "      <th>2094</th>\n",
       "      <th>2095</th>\n",
       "      <th>2096</th>\n",
       "      <th>2097</th>\n",
       "      <th>2098</th>\n",
       "      <th>2099</th>\n",
       "      <th>2100</th>\n",
       "      <th>Category</th>\n",
       "      <th>Category_name</th>\n",
       "    </tr>\n",
       "  </thead>\n",
       "  <tbody>\n",
       "    <tr>\n",
       "      <th>0</th>\n",
       "      <td>0</td>\n",
       "      <td>AIM/CGE 2.0</td>\n",
       "      <td>SSP1-26</td>\n",
       "      <td>World</td>\n",
       "      <td>AR6 climate diagnostics|Harmonized|Emissions|BC</td>\n",
       "      <td>Mt BC/yr</td>\n",
       "      <td>8.130643</td>\n",
       "      <td>7.738276</td>\n",
       "      <td>7.503108</td>\n",
       "      <td>7.269501</td>\n",
       "      <td>...</td>\n",
       "      <td>2.022680</td>\n",
       "      <td>2.007340</td>\n",
       "      <td>1.992000</td>\n",
       "      <td>1.976660</td>\n",
       "      <td>1.961320</td>\n",
       "      <td>1.945980</td>\n",
       "      <td>1.930640</td>\n",
       "      <td>1.915300</td>\n",
       "      <td>C3</td>\n",
       "      <td>C3: limit warming to 2°C (&gt;67%)</td>\n",
       "    </tr>\n",
       "    <tr>\n",
       "      <th>1</th>\n",
       "      <td>1</td>\n",
       "      <td>AIM/CGE 2.0</td>\n",
       "      <td>SSP1-26</td>\n",
       "      <td>World</td>\n",
       "      <td>AR6 climate diagnostics|Harmonized|Emissions|CH4</td>\n",
       "      <td>Mt CH4/yr</td>\n",
       "      <td>382.198514</td>\n",
       "      <td>380.730719</td>\n",
       "      <td>365.470232</td>\n",
       "      <td>350.213054</td>\n",
       "      <td>...</td>\n",
       "      <td>117.482740</td>\n",
       "      <td>116.862420</td>\n",
       "      <td>116.242100</td>\n",
       "      <td>115.621780</td>\n",
       "      <td>115.001460</td>\n",
       "      <td>114.381140</td>\n",
       "      <td>113.760820</td>\n",
       "      <td>113.140500</td>\n",
       "      <td>C3</td>\n",
       "      <td>C3: limit warming to 2°C (&gt;67%)</td>\n",
       "    </tr>\n",
       "    <tr>\n",
       "      <th>2</th>\n",
       "      <td>2</td>\n",
       "      <td>AIM/CGE 2.0</td>\n",
       "      <td>SSP1-26</td>\n",
       "      <td>World</td>\n",
       "      <td>AR6 climate diagnostics|Harmonized|Emissions|CO</td>\n",
       "      <td>Mt CO/yr</td>\n",
       "      <td>855.912547</td>\n",
       "      <td>836.364378</td>\n",
       "      <td>821.034217</td>\n",
       "      <td>805.723117</td>\n",
       "      <td>...</td>\n",
       "      <td>347.671325</td>\n",
       "      <td>344.756572</td>\n",
       "      <td>341.845444</td>\n",
       "      <td>338.937940</td>\n",
       "      <td>336.034060</td>\n",
       "      <td>333.133803</td>\n",
       "      <td>330.237171</td>\n",
       "      <td>327.344163</td>\n",
       "      <td>C3</td>\n",
       "      <td>C3: limit warming to 2°C (&gt;67%)</td>\n",
       "    </tr>\n",
       "    <tr>\n",
       "      <th>3</th>\n",
       "      <td>3</td>\n",
       "      <td>AIM/CGE 2.0</td>\n",
       "      <td>SSP1-26</td>\n",
       "      <td>World</td>\n",
       "      <td>AR6 climate diagnostics|Harmonized|Emissions|CO2</td>\n",
       "      <td>Mt CO2/yr</td>\n",
       "      <td>37800.549767</td>\n",
       "      <td>37462.666746</td>\n",
       "      <td>36683.892311</td>\n",
       "      <td>35905.865479</td>\n",
       "      <td>...</td>\n",
       "      <td>-188.421413</td>\n",
       "      <td>-238.245789</td>\n",
       "      <td>-288.070164</td>\n",
       "      <td>-337.894539</td>\n",
       "      <td>-387.718914</td>\n",
       "      <td>-437.543289</td>\n",
       "      <td>-487.367665</td>\n",
       "      <td>-537.192040</td>\n",
       "      <td>C3</td>\n",
       "      <td>C3: limit warming to 2°C (&gt;67%)</td>\n",
       "    </tr>\n",
       "    <tr>\n",
       "      <th>4</th>\n",
       "      <td>4</td>\n",
       "      <td>AIM/CGE 2.0</td>\n",
       "      <td>SSP1-26</td>\n",
       "      <td>World</td>\n",
       "      <td>AR6 climate diagnostics|Harmonized|Emissions|C...</td>\n",
       "      <td>Mt CO2/yr</td>\n",
       "      <td>2439.280541</td>\n",
       "      <td>2169.740677</td>\n",
       "      <td>1878.426691</td>\n",
       "      <td>1587.112706</td>\n",
       "      <td>...</td>\n",
       "      <td>-3480.564713</td>\n",
       "      <td>-3471.886089</td>\n",
       "      <td>-3463.207464</td>\n",
       "      <td>-3454.528839</td>\n",
       "      <td>-3445.850214</td>\n",
       "      <td>-3437.171589</td>\n",
       "      <td>-3428.492965</td>\n",
       "      <td>-3419.814340</td>\n",
       "      <td>C3</td>\n",
       "      <td>C3: limit warming to 2°C (&gt;67%)</td>\n",
       "    </tr>\n",
       "  </tbody>\n",
       "</table>\n",
       "<p>5 rows × 90 columns</p>\n",
       "</div>"
      ],
      "text/plain": [
       "   Unnamed: 0        Model Scenario Region  \\\n",
       "0           0  AIM/CGE 2.0  SSP1-26  World   \n",
       "1           1  AIM/CGE 2.0  SSP1-26  World   \n",
       "2           2  AIM/CGE 2.0  SSP1-26  World   \n",
       "3           3  AIM/CGE 2.0  SSP1-26  World   \n",
       "4           4  AIM/CGE 2.0  SSP1-26  World   \n",
       "\n",
       "                                            Variable       Unit          2019  \\\n",
       "0    AR6 climate diagnostics|Harmonized|Emissions|BC   Mt BC/yr      8.130643   \n",
       "1   AR6 climate diagnostics|Harmonized|Emissions|CH4  Mt CH4/yr    382.198514   \n",
       "2    AR6 climate diagnostics|Harmonized|Emissions|CO   Mt CO/yr    855.912547   \n",
       "3   AR6 climate diagnostics|Harmonized|Emissions|CO2  Mt CO2/yr  37800.549767   \n",
       "4  AR6 climate diagnostics|Harmonized|Emissions|C...  Mt CO2/yr   2439.280541   \n",
       "\n",
       "           2020          2021          2022  ...         2093         2094  \\\n",
       "0      7.738276      7.503108      7.269501  ...     2.022680     2.007340   \n",
       "1    380.730719    365.470232    350.213054  ...   117.482740   116.862420   \n",
       "2    836.364378    821.034217    805.723117  ...   347.671325   344.756572   \n",
       "3  37462.666746  36683.892311  35905.865479  ...  -188.421413  -238.245789   \n",
       "4   2169.740677   1878.426691   1587.112706  ... -3480.564713 -3471.886089   \n",
       "\n",
       "          2095         2096         2097         2098         2099  \\\n",
       "0     1.992000     1.976660     1.961320     1.945980     1.930640   \n",
       "1   116.242100   115.621780   115.001460   114.381140   113.760820   \n",
       "2   341.845444   338.937940   336.034060   333.133803   330.237171   \n",
       "3  -288.070164  -337.894539  -387.718914  -437.543289  -487.367665   \n",
       "4 -3463.207464 -3454.528839 -3445.850214 -3437.171589 -3428.492965   \n",
       "\n",
       "          2100  Category                    Category_name  \n",
       "0     1.915300        C3  C3: limit warming to 2°C (>67%)  \n",
       "1   113.140500        C3  C3: limit warming to 2°C (>67%)  \n",
       "2   327.344163        C3  C3: limit warming to 2°C (>67%)  \n",
       "3  -537.192040        C3  C3: limit warming to 2°C (>67%)  \n",
       "4 -3419.814340        C3  C3: limit warming to 2°C (>67%)  \n",
       "\n",
       "[5 rows x 90 columns]"
      ]
     },
     "execution_count": 3,
     "metadata": {},
     "output_type": "execute_result"
    }
   ],
   "source": [
    "df.head()"
   ]
  },
  {
   "cell_type": "code",
   "execution_count": 5,
   "metadata": {},
   "outputs": [
    {
     "name": "stdout",
     "output_type": "stream",
     "text": [
      "<class 'pandas.core.frame.DataFrame'>\n",
      "RangeIndex: 23411 entries, 0 to 23410\n",
      "Data columns (total 90 columns):\n",
      " #   Column         Non-Null Count  Dtype  \n",
      "---  ------         --------------  -----  \n",
      " 0   Unnamed: 0     23411 non-null  int64  \n",
      " 1   Model          23411 non-null  object \n",
      " 2   Scenario       23411 non-null  object \n",
      " 3   Region         23411 non-null  object \n",
      " 4   Variable       23411 non-null  object \n",
      " 5   Unit           23411 non-null  object \n",
      " 6   2019           23411 non-null  float64\n",
      " 7   2020           23411 non-null  float64\n",
      " 8   2021           23411 non-null  float64\n",
      " 9   2022           23411 non-null  float64\n",
      " 10  2023           23411 non-null  float64\n",
      " 11  2024           23411 non-null  float64\n",
      " 12  2025           23411 non-null  float64\n",
      " 13  2026           23411 non-null  float64\n",
      " 14  2027           23411 non-null  float64\n",
      " 15  2028           23411 non-null  float64\n",
      " 16  2029           23411 non-null  float64\n",
      " 17  2030           23411 non-null  float64\n",
      " 18  2031           23411 non-null  float64\n",
      " 19  2032           23411 non-null  float64\n",
      " 20  2033           23411 non-null  float64\n",
      " 21  2034           23411 non-null  float64\n",
      " 22  2035           23411 non-null  float64\n",
      " 23  2036           23411 non-null  float64\n",
      " 24  2037           23411 non-null  float64\n",
      " 25  2038           23411 non-null  float64\n",
      " 26  2039           23411 non-null  float64\n",
      " 27  2040           23411 non-null  float64\n",
      " 28  2041           23411 non-null  float64\n",
      " 29  2042           23411 non-null  float64\n",
      " 30  2043           23411 non-null  float64\n",
      " 31  2044           23411 non-null  float64\n",
      " 32  2045           23411 non-null  float64\n",
      " 33  2046           23411 non-null  float64\n",
      " 34  2047           23411 non-null  float64\n",
      " 35  2048           23411 non-null  float64\n",
      " 36  2049           23411 non-null  float64\n",
      " 37  2050           23411 non-null  float64\n",
      " 38  2051           23411 non-null  float64\n",
      " 39  2052           23411 non-null  float64\n",
      " 40  2053           23411 non-null  float64\n",
      " 41  2054           23411 non-null  float64\n",
      " 42  2055           23411 non-null  float64\n",
      " 43  2056           23411 non-null  float64\n",
      " 44  2057           23411 non-null  float64\n",
      " 45  2058           23411 non-null  float64\n",
      " 46  2059           23411 non-null  float64\n",
      " 47  2060           23411 non-null  float64\n",
      " 48  2061           23411 non-null  float64\n",
      " 49  2062           23411 non-null  float64\n",
      " 50  2063           23411 non-null  float64\n",
      " 51  2064           23411 non-null  float64\n",
      " 52  2065           23411 non-null  float64\n",
      " 53  2066           23411 non-null  float64\n",
      " 54  2067           23411 non-null  float64\n",
      " 55  2068           23411 non-null  float64\n",
      " 56  2069           23411 non-null  float64\n",
      " 57  2070           23411 non-null  float64\n",
      " 58  2071           23411 non-null  float64\n",
      " 59  2072           23411 non-null  float64\n",
      " 60  2073           23411 non-null  float64\n",
      " 61  2074           23411 non-null  float64\n",
      " 62  2075           23411 non-null  float64\n",
      " 63  2076           23411 non-null  float64\n",
      " 64  2077           23411 non-null  float64\n",
      " 65  2078           23411 non-null  float64\n",
      " 66  2079           23411 non-null  float64\n",
      " 67  2080           23411 non-null  float64\n",
      " 68  2081           23411 non-null  float64\n",
      " 69  2082           23411 non-null  float64\n",
      " 70  2083           23411 non-null  float64\n",
      " 71  2084           23411 non-null  float64\n",
      " 72  2085           23411 non-null  float64\n",
      " 73  2086           23411 non-null  float64\n",
      " 74  2087           23411 non-null  float64\n",
      " 75  2088           23411 non-null  float64\n",
      " 76  2089           23411 non-null  float64\n",
      " 77  2090           23411 non-null  float64\n",
      " 78  2091           23411 non-null  float64\n",
      " 79  2092           23411 non-null  float64\n",
      " 80  2093           23411 non-null  float64\n",
      " 81  2094           23411 non-null  float64\n",
      " 82  2095           23411 non-null  float64\n",
      " 83  2096           23411 non-null  float64\n",
      " 84  2097           23411 non-null  float64\n",
      " 85  2098           23411 non-null  float64\n",
      " 86  2099           23411 non-null  float64\n",
      " 87  2100           23411 non-null  float64\n",
      " 88  Category       21703 non-null  object \n",
      " 89  Category_name  21703 non-null  object \n",
      "dtypes: float64(82), int64(1), object(7)\n",
      "memory usage: 16.1+ MB\n"
     ]
    }
   ],
   "source": [
    "df.info()"
   ]
  },
  {
   "cell_type": "code",
   "execution_count": 7,
   "metadata": {},
   "outputs": [
    {
     "data": {
      "text/plain": [
       "Unnamed: 0          0\n",
       "Model               0\n",
       "Scenario            0\n",
       "Region              0\n",
       "Variable            0\n",
       "                 ... \n",
       "2098                0\n",
       "2099                0\n",
       "2100                0\n",
       "Category         1708\n",
       "Category_name    1708\n",
       "Length: 90, dtype: int64"
      ]
     },
     "execution_count": 7,
     "metadata": {},
     "output_type": "execute_result"
    }
   ],
   "source": [
    "df.isnull().sum()"
   ]
  },
  {
   "cell_type": "code",
   "execution_count": 13,
   "metadata": {},
   "outputs": [
    {
     "data": {
      "text/plain": [
       "Index(['Unnamed: 0', 'Model', 'Scenario', 'Region', 'Variable', 'Unit', '2019',\n",
       "       '2020', '2021', '2022', '2023', '2024', '2025', '2026', '2027', '2028',\n",
       "       '2029', '2030', '2031', '2032', '2033', '2034', '2035', '2036', '2037',\n",
       "       '2038', '2039', '2040', '2041', '2042', '2043', '2044', '2045', '2046',\n",
       "       '2047', '2048', '2049', '2050', '2051', '2052', '2053', '2054', '2055',\n",
       "       '2056', '2057', '2058', '2059', '2060', '2061', '2062', '2063', '2064',\n",
       "       '2065', '2066', '2067', '2068', '2069', '2070', '2071', '2072', '2073',\n",
       "       '2074', '2075', '2076', '2077', '2078', '2079', '2080', '2081', '2082',\n",
       "       '2083', '2084', '2085', '2086', '2087', '2088', '2089', '2090', '2091',\n",
       "       '2092', '2093', '2094', '2095', '2096', '2097', '2098', '2099', '2100',\n",
       "       'Category', 'Category_name'],\n",
       "      dtype='object')"
      ]
     },
     "execution_count": 13,
     "metadata": {},
     "output_type": "execute_result"
    }
   ],
   "source": [
    "df.columns"
   ]
  },
  {
   "cell_type": "code",
   "execution_count": 11,
   "metadata": {},
   "outputs": [],
   "source": [
    "# it seems that the category column, the one of interest has a missing data, it should be removed. "
   ]
  },
  {
   "cell_type": "code",
   "execution_count": 8,
   "metadata": {},
   "outputs": [],
   "source": [
    "df_clean = df.dropna()"
   ]
  },
  {
   "cell_type": "code",
   "execution_count": 12,
   "metadata": {},
   "outputs": [
    {
     "data": {
      "text/plain": [
       "(23411, 90)"
      ]
     },
     "execution_count": 12,
     "metadata": {},
     "output_type": "execute_result"
    }
   ],
   "source": [
    "df.shape"
   ]
  },
  {
   "cell_type": "code",
   "execution_count": 10,
   "metadata": {},
   "outputs": [
    {
     "data": {
      "text/plain": [
       "(21703, 90)"
      ]
     },
     "execution_count": 10,
     "metadata": {},
     "output_type": "execute_result"
    }
   ],
   "source": [
    "df_clean.shape"
   ]
  },
  {
   "cell_type": "code",
   "execution_count": 15,
   "metadata": {},
   "outputs": [
    {
     "data": {
      "text/plain": [
       "['C3', 'C5', 'C6', 'C7', 'C4', 'C1', 'C2', 'C8']"
      ]
     },
     "execution_count": 15,
     "metadata": {},
     "output_type": "execute_result"
    }
   ],
   "source": [
    "# lets check that the emissions category column is full of all categorties (C1 to C8)\n",
    "df_clean['Category'].unique().tolist()"
   ]
  },
  {
   "attachments": {},
   "cell_type": "markdown",
   "metadata": {},
   "source": [
    "Now, we are sure that the emissions category column ['Category'] has the 8 categories. Lets check the distributions of data points in this column. "
   ]
  },
  {
   "cell_type": "code",
   "execution_count": 20,
   "metadata": {},
   "outputs": [
    {
     "data": {
      "text/plain": [
       "C3    5480\n",
       "C5    3859\n",
       "C7    3049\n",
       "C4    2817\n",
       "C2    2393\n",
       "C6    1801\n",
       "C1    1677\n",
       "C8     627\n",
       "Name: Category, dtype: int64"
      ]
     },
     "execution_count": 20,
     "metadata": {},
     "output_type": "execute_result"
    }
   ],
   "source": [
    "df_clean['Category'].value_counts()"
   ]
  },
  {
   "cell_type": "code",
   "execution_count": 21,
   "metadata": {},
   "outputs": [
    {
     "data": {
      "text/plain": [
       "<AxesSubplot:>"
      ]
     },
     "execution_count": 21,
     "metadata": {},
     "output_type": "execute_result"
    },
    {
     "data": {
      "image/png": "[encoded data removed]",
      "text/plain": [
       "<Figure size 432x288 with 1 Axes>"
      ]
     },
     "metadata": {
      "needs_background": "light"
     },
     "output_type": "display_data"
    }
   ],
   "source": [
    "df_clean['Category'].value_counts().plot(kind = 'bar')"
   ]
  },
  {
   "attachments": {},
   "cell_type": "markdown",
   "metadata": {},
   "source": [
    "C8 is the least represented in the dataset. It can be omitted as it showsn scenarioes of very high emisisons and warming potential. \n",
    "Bu we can leave it and try the classification model with it and without it. "
   ]
  },
  {
   "attachments": {},
   "cell_type": "markdown",
   "metadata": {},
   "source": [
    "## Re-arranging the dataset\n",
    "\n",
    "The dataset is presented with time columns. However, we need the features as columns. Features for the classification of the global warming potential of scenarioes include GHG emissions, CO2 emisisons, energy demand (oil, gas, coal, renewables), and carbon removal technology scale. \n",
    "\n",
    "The dataset should be restructured to represent these features as column to start feature engineering of the dataset. "
   ]
  },
  {
   "cell_type": "code",
   "execution_count": 26,
   "metadata": {},
   "outputs": [],
   "source": [
    "# shorten the dataset into a shorter version with the values of interest\n",
    "##NOTE: the dataset is on Global basis - the region is always 'World'\n",
    "\n",
    "df_clean = df_clean[['Model', 'Scenario', 'Variable', 'Unit','2030', '2040', '2050', 'Category']]\n",
    "\n"
   ]
  },
  {
   "cell_type": "code",
   "execution_count": 27,
   "metadata": {},
   "outputs": [
    {
     "data": {
      "text/html": [
       "<div>\n",
       "<style scoped>\n",
       "    .dataframe tbody tr th:only-of-type {\n",
       "        vertical-align: middle;\n",
       "    }\n",
       "\n",
       "    .dataframe tbody tr th {\n",
       "        vertical-align: top;\n",
       "    }\n",
       "\n",
       "    .dataframe thead th {\n",
       "        text-align: right;\n",
       "    }\n",
       "</style>\n",
       "<table border=\"1\" class=\"dataframe\">\n",
       "  <thead>\n",
       "    <tr style=\"text-align: right;\">\n",
       "      <th></th>\n",
       "      <th>Model</th>\n",
       "      <th>Scenario</th>\n",
       "      <th>Variable</th>\n",
       "      <th>Unit</th>\n",
       "      <th>2030</th>\n",
       "      <th>2040</th>\n",
       "      <th>2050</th>\n",
       "      <th>Category</th>\n",
       "    </tr>\n",
       "  </thead>\n",
       "  <tbody>\n",
       "    <tr>\n",
       "      <th>0</th>\n",
       "      <td>AIM/CGE 2.0</td>\n",
       "      <td>SSP1-26</td>\n",
       "      <td>AR6 climate diagnostics|Harmonized|Emissions|BC</td>\n",
       "      <td>Mt BC/yr</td>\n",
       "      <td>5.456829</td>\n",
       "      <td>4.237396</td>\n",
       "      <td>3.337359</td>\n",
       "      <td>C3</td>\n",
       "    </tr>\n",
       "    <tr>\n",
       "      <th>1</th>\n",
       "      <td>AIM/CGE 2.0</td>\n",
       "      <td>SSP1-26</td>\n",
       "      <td>AR6 climate diagnostics|Harmonized|Emissions|CH4</td>\n",
       "      <td>Mt CH4/yr</td>\n",
       "      <td>228.274770</td>\n",
       "      <td>172.269750</td>\n",
       "      <td>151.312704</td>\n",
       "      <td>C3</td>\n",
       "    </tr>\n",
       "    <tr>\n",
       "      <th>2</th>\n",
       "      <td>AIM/CGE 2.0</td>\n",
       "      <td>SSP1-26</td>\n",
       "      <td>AR6 climate diagnostics|Harmonized|Emissions|CO</td>\n",
       "      <td>Mt CO/yr</td>\n",
       "      <td>683.920550</td>\n",
       "      <td>585.632065</td>\n",
       "      <td>499.384203</td>\n",
       "      <td>C3</td>\n",
       "    </tr>\n",
       "    <tr>\n",
       "      <th>3</th>\n",
       "      <td>AIM/CGE 2.0</td>\n",
       "      <td>SSP1-26</td>\n",
       "      <td>AR6 climate diagnostics|Harmonized|Emissions|CO2</td>\n",
       "      <td>Mt CO2/yr</td>\n",
       "      <td>29708.564518</td>\n",
       "      <td>18913.013818</td>\n",
       "      <td>12965.258478</td>\n",
       "      <td>C3</td>\n",
       "    </tr>\n",
       "    <tr>\n",
       "      <th>4</th>\n",
       "      <td>AIM/CGE 2.0</td>\n",
       "      <td>SSP1-26</td>\n",
       "      <td>AR6 climate diagnostics|Harmonized|Emissions|C...</td>\n",
       "      <td>Mt CO2/yr</td>\n",
       "      <td>-743.399175</td>\n",
       "      <td>-2306.007528</td>\n",
       "      <td>-2857.468480</td>\n",
       "      <td>C3</td>\n",
       "    </tr>\n",
       "  </tbody>\n",
       "</table>\n",
       "</div>"
      ],
      "text/plain": [
       "         Model Scenario                                           Variable  \\\n",
       "0  AIM/CGE 2.0  SSP1-26    AR6 climate diagnostics|Harmonized|Emissions|BC   \n",
       "1  AIM/CGE 2.0  SSP1-26   AR6 climate diagnostics|Harmonized|Emissions|CH4   \n",
       "2  AIM/CGE 2.0  SSP1-26    AR6 climate diagnostics|Harmonized|Emissions|CO   \n",
       "3  AIM/CGE 2.0  SSP1-26   AR6 climate diagnostics|Harmonized|Emissions|CO2   \n",
       "4  AIM/CGE 2.0  SSP1-26  AR6 climate diagnostics|Harmonized|Emissions|C...   \n",
       "\n",
       "        Unit          2030          2040          2050 Category  \n",
       "0   Mt BC/yr      5.456829      4.237396      3.337359       C3  \n",
       "1  Mt CH4/yr    228.274770    172.269750    151.312704       C3  \n",
       "2   Mt CO/yr    683.920550    585.632065    499.384203       C3  \n",
       "3  Mt CO2/yr  29708.564518  18913.013818  12965.258478       C3  \n",
       "4  Mt CO2/yr   -743.399175  -2306.007528  -2857.468480       C3  "
      ]
     },
     "execution_count": 27,
     "metadata": {},
     "output_type": "execute_result"
    }
   ],
   "source": [
    "df_clean.head()"
   ]
  },
  {
   "cell_type": "code",
   "execution_count": 28,
   "metadata": {},
   "outputs": [],
   "source": [
    "# convert df_clean into long format\n",
    "\n",
    "df_l = df_clean.melt(id_vars = ['Model', 'Scenario', 'Variable', 'Unit', 'Category'],\n",
    "                                    value_vars = ['2030', '2040','2050'],\n",
    "                                    var_name = 'Year',\n",
    "                                    value_name = 'Variable_Value')"
   ]
  },
  {
   "cell_type": "code",
   "execution_count": 25,
   "metadata": {},
   "outputs": [
    {
     "data": {
      "text/html": [
       "<div>\n",
       "<style scoped>\n",
       "    .dataframe tbody tr th:only-of-type {\n",
       "        vertical-align: middle;\n",
       "    }\n",
       "\n",
       "    .dataframe tbody tr th {\n",
       "        vertical-align: top;\n",
       "    }\n",
       "\n",
       "    .dataframe thead th {\n",
       "        text-align: right;\n",
       "    }\n",
       "</style>\n",
       "<table border=\"1\" class=\"dataframe\">\n",
       "  <thead>\n",
       "    <tr style=\"text-align: right;\">\n",
       "      <th></th>\n",
       "      <th>Model</th>\n",
       "      <th>Scenario</th>\n",
       "      <th>Region</th>\n",
       "      <th>Variable</th>\n",
       "      <th>Unit</th>\n",
       "      <th>Category</th>\n",
       "      <th>Year</th>\n",
       "      <th>Variable_Value</th>\n",
       "    </tr>\n",
       "  </thead>\n",
       "  <tbody>\n",
       "    <tr>\n",
       "      <th>0</th>\n",
       "      <td>AIM/CGE 2.0</td>\n",
       "      <td>SSP1-26</td>\n",
       "      <td>World</td>\n",
       "      <td>AR6 climate diagnostics|Harmonized|Emissions|BC</td>\n",
       "      <td>Mt BC/yr</td>\n",
       "      <td>C3</td>\n",
       "      <td>2030</td>\n",
       "      <td>5.456829</td>\n",
       "    </tr>\n",
       "    <tr>\n",
       "      <th>1</th>\n",
       "      <td>AIM/CGE 2.0</td>\n",
       "      <td>SSP1-26</td>\n",
       "      <td>World</td>\n",
       "      <td>AR6 climate diagnostics|Harmonized|Emissions|CH4</td>\n",
       "      <td>Mt CH4/yr</td>\n",
       "      <td>C3</td>\n",
       "      <td>2030</td>\n",
       "      <td>228.274770</td>\n",
       "    </tr>\n",
       "    <tr>\n",
       "      <th>2</th>\n",
       "      <td>AIM/CGE 2.0</td>\n",
       "      <td>SSP1-26</td>\n",
       "      <td>World</td>\n",
       "      <td>AR6 climate diagnostics|Harmonized|Emissions|CO</td>\n",
       "      <td>Mt CO/yr</td>\n",
       "      <td>C3</td>\n",
       "      <td>2030</td>\n",
       "      <td>683.920550</td>\n",
       "    </tr>\n",
       "    <tr>\n",
       "      <th>3</th>\n",
       "      <td>AIM/CGE 2.0</td>\n",
       "      <td>SSP1-26</td>\n",
       "      <td>World</td>\n",
       "      <td>AR6 climate diagnostics|Harmonized|Emissions|CO2</td>\n",
       "      <td>Mt CO2/yr</td>\n",
       "      <td>C3</td>\n",
       "      <td>2030</td>\n",
       "      <td>29708.564518</td>\n",
       "    </tr>\n",
       "    <tr>\n",
       "      <th>4</th>\n",
       "      <td>AIM/CGE 2.0</td>\n",
       "      <td>SSP1-26</td>\n",
       "      <td>World</td>\n",
       "      <td>AR6 climate diagnostics|Harmonized|Emissions|C...</td>\n",
       "      <td>Mt CO2/yr</td>\n",
       "      <td>C3</td>\n",
       "      <td>2030</td>\n",
       "      <td>-743.399175</td>\n",
       "    </tr>\n",
       "  </tbody>\n",
       "</table>\n",
       "</div>"
      ],
      "text/plain": [
       "         Model Scenario Region  \\\n",
       "0  AIM/CGE 2.0  SSP1-26  World   \n",
       "1  AIM/CGE 2.0  SSP1-26  World   \n",
       "2  AIM/CGE 2.0  SSP1-26  World   \n",
       "3  AIM/CGE 2.0  SSP1-26  World   \n",
       "4  AIM/CGE 2.0  SSP1-26  World   \n",
       "\n",
       "                                            Variable       Unit Category  \\\n",
       "0    AR6 climate diagnostics|Harmonized|Emissions|BC   Mt BC/yr       C3   \n",
       "1   AR6 climate diagnostics|Harmonized|Emissions|CH4  Mt CH4/yr       C3   \n",
       "2    AR6 climate diagnostics|Harmonized|Emissions|CO   Mt CO/yr       C3   \n",
       "3   AR6 climate diagnostics|Harmonized|Emissions|CO2  Mt CO2/yr       C3   \n",
       "4  AR6 climate diagnostics|Harmonized|Emissions|C...  Mt CO2/yr       C3   \n",
       "\n",
       "   Year  Variable_Value  \n",
       "0  2030        5.456829  \n",
       "1  2030      228.274770  \n",
       "2  2030      683.920550  \n",
       "3  2030    29708.564518  \n",
       "4  2030     -743.399175  "
      ]
     },
     "execution_count": 25,
     "metadata": {},
     "output_type": "execute_result"
    }
   ],
   "source": [
    "# convert the long formate into a pivot formate with the variables at each year is a column"
   ]
  }
 ],
 "metadata": {
  "kernelspec": {
   "display_name": "base",
   "language": "python",
   "name": "python3"
  },
  "language_info": {
   "codemirror_mode": {
    "name": "ipython",
    "version": 3
   },
   "file_extension": ".py",
   "mimetype": "text/x-python",
   "name": "python",
   "nbconvert_exporter": "python",
   "pygments_lexer": "ipython3",
   "version": "3.9.7"
  },
  "orig_nbformat": 4,
  "vscode": {
   "interpreter": {
    "hash": "3bc2c20e7f158aeb56c0a8e788c01759e6344571f9b30723642236e079177307"
   }
  }
 },
 "nbformat": 4,
 "nbformat_minor": 2
}
